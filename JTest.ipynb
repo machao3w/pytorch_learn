{
 "cells": [
  {
   "cell_type": "code",
   "execution_count": 2,
   "metadata": {
    "collapsed": true,
    "pycharm": {
     "is_executing": false
    }
   },
   "outputs": [],
   "source": [
    "import torch\n",
    "import random"
   ]
  },
  {
   "cell_type": "code",
   "execution_count": 3,
   "outputs": [],
   "source": [
    "def synthetic_data(w, b, num_examples):\n",
    "    # 均值为0 方差为1\n",
    "    x = torch.normal(0, 1, (num_examples, len(w)))\n",
    "    y = torch.matmul(x, w) + b\n",
    "    # 噪音\n",
    "    e = torch.normal(0, 0.01, y.shape)\n",
    "    y = y + e\n",
    "    # -1 表示无此列\n",
    "    return x, y.reshape((-1, 1))\n",
    "\n",
    "\n",
    "true_w = torch.tensor([2, -3.4])\n",
    "true_b = 4.2\n",
    "features, labels = synthetic_data(true_w, true_b, 1000)"
   ],
   "metadata": {
    "collapsed": false,
    "pycharm": {
     "name": "#%%\n",
     "is_executing": false
    }
   }
  },
  {
   "cell_type": "code",
   "execution_count": 4,
   "outputs": [
    {
     "name": "stdout",
     "text": [
      "tensor([[ 0.0351,  0.8927],\n",
      "        [ 0.8219,  0.6296],\n",
      "        [ 0.9870,  0.3497],\n",
      "        [-1.1551, -0.3756],\n",
      "        [-0.6575,  1.1095],\n",
      "        [ 0.6483,  1.0583],\n",
      "        [ 0.0522, -0.1820],\n",
      "        [ 1.3479, -0.1214],\n",
      "        [ 0.6489,  2.1920],\n",
      "        [-0.3582, -0.5290]]) \n",
      " tensor([[ 1.2080],\n",
      "        [ 3.7170],\n",
      "        [ 4.9909],\n",
      "        [ 3.1783],\n",
      "        [-0.8983],\n",
      "        [ 1.8993],\n",
      "        [ 4.9183],\n",
      "        [ 7.2964],\n",
      "        [-1.9459],\n",
      "        [ 5.2605]])\n"
     ],
     "output_type": "stream"
    }
   ],
   "source": [
    "def data_iter(batch_size, features, labels):\n",
    "    num_examples = len(features)\n",
    "    indices = list(range(num_examples))\n",
    "    random.shuffle(indices)\n",
    "    for i in range(0, num_examples, batch_size):\n",
    "        batch_indices = torch.tensor(\n",
    "            indices[i: min(i + batch_size, num_examples)]\n",
    "        )\n",
    "        yield features[batch_indices], labels[batch_indices]\n",
    "\n",
    "\n",
    "batch_size = 10\n",
    "for x, y in data_iter(batch_size, features, labels):\n",
    "    print(x,'\\n',y)\n",
    "    break\n"
   ],
   "metadata": {
    "collapsed": false,
    "pycharm": {
     "name": "#%%\n",
     "is_executing": false
    }
   }
  }
 ],
 "metadata": {
  "kernelspec": {
   "display_name": "Python 3",
   "language": "python",
   "name": "python3"
  },
  "language_info": {
   "codemirror_mode": {
    "name": "ipython",
    "version": 2
   },
   "file_extension": ".py",
   "mimetype": "text/x-python",
   "name": "python",
   "nbconvert_exporter": "python",
   "pygments_lexer": "ipython2",
   "version": "2.7.6"
  },
  "pycharm": {
   "stem_cell": {
    "cell_type": "raw",
    "source": [],
    "metadata": {
     "collapsed": false
    }
   }
  }
 },
 "nbformat": 4,
 "nbformat_minor": 0
}